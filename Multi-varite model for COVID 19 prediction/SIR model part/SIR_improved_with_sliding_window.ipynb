{
  "nbformat": 4,
  "nbformat_minor": 0,
  "metadata": {
    "colab": {
      "name": "SIR_improved_with_sliding_window.ipynb",
      "provenance": [],
      "collapsed_sections": []
    },
    "kernelspec": {
      "name": "python3",
      "display_name": "Python 3"
    },
    "language_info": {
      "name": "python"
    }
  },
  "cells": [
    {
      "cell_type": "markdown",
      "metadata": {
        "id": "GC2eogPTndpi"
      },
      "source": [
        "import library"
      ]
    },
    {
      "cell_type": "code",
      "metadata": {
        "id": "LQaISGgXnX5W"
      },
      "source": [
        "import numpy as np\n",
        "import pandas as pd\n",
        "import math\n",
        "import matplotlib.pyplot as plt\n",
        "from sklearn.linear_model import Ridge\n",
        "from sklearn.model_selection import GridSearchCV\n",
        "#import library we may use in this research"
      ],
      "execution_count": 2,
      "outputs": []
    },
    {
      "cell_type": "markdown",
      "metadata": {
        "id": "HTvxoTHTniDV"
      },
      "source": [
        "some useful definition"
      ]
    },
    {
      "cell_type": "code",
      "metadata": {
        "id": "mQWJAAewoUG2"
      },
      "source": [
        "# define the function of data spliting\n",
        "def data_spilt(data, orders, start):\n",
        "    x_train = np.empty((len(data) - start - orders, orders))\n",
        "    y_train = data[start + orders:]\n",
        "\n",
        "    for i in range(len(data) - start - orders):\n",
        "        x_train[i] = data[i + start:start + orders + i]\n",
        "\n",
        "    # Exclude the day (Feb. 12, 2020) of the change of the definition of confirmed cases in Hubei China.\n",
        "    x_train = np.delete(x_train, np.s_[28 - (orders + 1) - start:28 - start], 0)\n",
        "    y_train = np.delete(y_train, np.s_[28 - (orders + 1) - start:28 - start])\n",
        "\n",
        "    return x_train, y_train\n",
        "\n",
        "\n",
        "#define the ridge regression\n",
        "def ridge(x, y):\n",
        "    print('\\nStart searching good parameters for the task...')\n",
        "    parameters = {'alpha': np.arange(0, 0.100005, 0.000005).tolist(),\n",
        "                  \"tol\": [1e-8],\n",
        "                  'fit_intercept': [True, False],\n",
        "                  'normalize': [True, False]}\n",
        "\n",
        "    clf = GridSearchCV(Ridge(), parameters, n_jobs=-1, cv=5)\n",
        "    clf.fit(x, y)\n",
        "\n",
        "    print('\\nResults for the parameters grid search:')\n",
        "    print('Model:', clf.best_estimator_)\n",
        "    print('Score:', clf.best_score_)\n",
        "\n",
        "    return clf"
      ],
      "execution_count": 3,
      "outputs": []
    },
    {
      "cell_type": "markdown",
      "metadata": {
        "id": "tmWZClV7oZwz"
      },
      "source": [
        "dataset loading"
      ]
    },
    {
      "cell_type": "code",
      "metadata": {
        "id": "6q7GOo-cocBZ"
      },
      "source": [
        "# this can be substitute by the VA_situation_revised.csv file if can't find the file\n",
        "data = pd.read_csv(\"/content/drive/MyDrive/stats_402/SIR model/VA_situation_revised.csv\")"
      ],
      "execution_count": 4,
      "outputs": []
    },
    {
      "cell_type": "code",
      "metadata": {
        "id": "dg-_XN5-odcT"
      },
      "source": [
        "# this can be substitute by the VDH-COVID-19-PublicUseDataset-KeyMeasures-Hospitals (3).csv file if can't find the file\n",
        "hospitalization = pd.read_csv(\"/content/drive/MyDrive/stats_402/EDA/hospitalization/VDH-COVID-19-PublicUseDataset-KeyMeasures-Hospitals (3).csv\")\n",
        "# this can be substitute by the Virginia recover data.csv file if can't find the file\n",
        "recover_data = pd.read_csv(\"/content/drive/MyDrive/stats_402/recover data/Virginia recover data.csv\")"
      ],
      "execution_count": 5,
      "outputs": []
    },
    {
      "cell_type": "markdown",
      "metadata": {
        "id": "eLQoyyrjiy57"
      },
      "source": [
        "overall situation"
      ]
    },
    {
      "cell_type": "code",
      "metadata": {
        "id": "kCJm_gkeFBvo"
      },
      "source": [
        "# the data we used in stage 2 which lacks the recover data\n",
        "X_cml = np.array(data['tot_cases'])[0:100]\n",
        "date = np.array(data['submission_date'])[0:100]\n",
        "death = np.array(data['tot_death'])[0:100]\n",
        "\n",
        "new_case = np.array(data['new_case'])[0:100]\n",
        "new_death = np.array(data['new_death'])[0:100]\n",
        "recover_rate=0.2645743266463747\n",
        "recovered = X_cml*recover_rate\n",
        "population = 8603985"
      ],
      "execution_count": 6,
      "outputs": []
    },
    {
      "cell_type": "markdown",
      "metadata": {
        "id": "VoCDGQu-i6_6"
      },
      "source": [
        "with recover data"
      ]
    },
    {
      "cell_type": "code",
      "metadata": {
        "id": "2uqvDFUYi6bG"
      },
      "source": [
        "# the final data we use\n",
        "X_cml = np.array(recover_data['Confirmed'])[0:315]\n",
        "date = np.array(recover_data['date'])[0:315]\n",
        "death = np.array(recover_data['Deaths'])[0:315]\n",
        "recovered = np.array(recover_data['Recovered'])[0:315]\n",
        "\n",
        "new_case = np.array(data['new_case'])[0:100]\n",
        "new_death = np.array(data['new_death'])[0:100]\n",
        "\n",
        "population = 8603985"
      ],
      "execution_count": 7,
      "outputs": []
    },
    {
      "cell_type": "markdown",
      "metadata": {
        "id": "MB2S6dLlIOBz"
      },
      "source": [
        "split dataset"
      ]
    },
    {
      "cell_type": "code",
      "metadata": {
        "id": "sSvRMt_QIEr0"
      },
      "source": [
        "#import the library\n",
        "from sklearn.model_selection import train_test_split"
      ],
      "execution_count": 8,
      "outputs": []
    },
    {
      "cell_type": "code",
      "metadata": {
        "id": "Zch_MCe4Mu0x"
      },
      "source": [
        "index = recover_data['index'][33:300]-1"
      ],
      "execution_count": 9,
      "outputs": []
    },
    {
      "cell_type": "code",
      "metadata": {
        "id": "DhyvtDdkVE9q"
      },
      "source": [
        "index_train,index_test = train_test_split(index,test_size=0.3,random_state=2)\n",
        "index_list = index_test.to_list()"
      ],
      "execution_count": 10,
      "outputs": []
    },
    {
      "cell_type": "code",
      "metadata": {
        "id": "GnWbgTH-INMb"
      },
      "source": [
        "#spilt the data into train data and test data to test the MSE performance of the model\n",
        "X_cml_train,X_cml_test,date_train,date_test,death_train,death_test,recovered_train,recovered_test = train_test_split(X_cml,date,death,recovered,test_size=0.3,random_state=2)"
      ],
      "execution_count": 11,
      "outputs": []
    },
    {
      "cell_type": "markdown",
      "metadata": {
        "id": "sLN1KWm3JQ3K"
      },
      "source": [
        "main body"
      ]
    },
    {
      "cell_type": "code",
      "metadata": {
        "id": "v3k_7Yd02Clq"
      },
      "source": [
        "# define the data processing function which will used in the main function\n",
        "def processing(X_cml,date,death,recovered):\n",
        "  X = X_cml - recovered - death\n",
        "  R = recovered + death\n",
        "\n",
        "  n = np.array([population] * len(X), dtype=np.float64)\n",
        "\n",
        "  S = n - X - R\n",
        "\n",
        "  X_diff = np.array([X[:-1], X[1:]], dtype=np.float64).T\n",
        "  R_diff = np.array([R[:-1], R[1:]], dtype=np.float64).T\n",
        "\n",
        "  gamma = (R[1:] - R[:-1]) / X[:-1]\n",
        "  beta = n[:-1] * (X[1:] - X[:-1] + R[1:] - R[:-1]) / (X[:-1] * (n[:-1] - X[:-1] - R[:-1]))\n",
        "  R0 = beta / gamma\n",
        "  return X,R,n,S,X_diff,R_diff,gamma,beta,R0"
      ],
      "execution_count": 12,
      "outputs": []
    },
    {
      "cell_type": "code",
      "metadata": {
        "id": "fSTxubb61J39"
      },
      "source": [
        "import warnings\n",
        "warnings.filterwarnings(\"ignore\")\n",
        "# define the main function\n",
        "def SIR(X_cml,death,recovered,stop_X,stop_day):\n",
        "  # recall the data processing function\n",
        "  X,R,n,S,X_diff,R_diff,gamma,beta,R0 = processing(X_cml,date,death,recovered)\n",
        "\n",
        "  # decide the orders of the function\n",
        "  orders_beta = 4\n",
        "  orders_gamma = 4\n",
        "\n",
        "  # decides the starting beta and gamma\n",
        "  start_beta = 10\n",
        "  start_gamma = 10\n",
        "\n",
        "  # ridge regression\n",
        "  # Split the data to the training set and testing set\n",
        "  x_beta, y_beta = data_spilt(beta, orders_beta, start_beta)\n",
        "  x_gamma, y_gamma = data_spilt(gamma, orders_gamma, start_gamma)\n",
        "\n",
        "\n",
        "\n",
        "  # train and testing\n",
        "  clf_beta = Ridge(alpha=0.003765, copy_X=True, fit_intercept=False, max_iter=None, normalize=True, random_state=None, solver='auto', tol=1e-08).fit(x_beta, y_beta)\n",
        "  clf_gamma = Ridge(alpha=0.001675, copy_X=True, fit_intercept=False, max_iter=None,normalize=True, random_state=None, solver='auto', tol=1e-08).fit(x_gamma, y_gamma)\n",
        "\n",
        "  beta_hat = clf_beta.predict(x_beta)\n",
        "  gamma_hat = clf_gamma.predict(x_gamma)\n",
        "\n",
        "\n",
        "  # test data preprocess \n",
        "  test_x = np.array(recover_data['Confirmed'])[0:200]\n",
        "\n",
        "  test_death = np.array(recover_data['Deaths'])[0:200]\n",
        "\n",
        "  test_recovered = np.array(recover_data['Recovered'])[0:200]\n",
        "  \n",
        "  test_X = test_x - test_recovered - test_death\n",
        "  test_R = test_recovered + test_death\n",
        "\n",
        "  # Time-dependent SIR model \n",
        "\n",
        "  \n",
        "\n",
        "\n",
        "\n",
        "\n",
        "\n",
        "\n",
        "  day_count = 0\n",
        "  turning_point = 0\n",
        "\n",
        "  S_predict = [S[-1]]\n",
        "  X_predict = [X[-1]]\n",
        "  R_predict = [R[-1]]\n",
        "\n",
        "  predict_beta = np.array(beta[-orders_beta:]).tolist()\n",
        "  predict_gamma = np.array(gamma[-orders_gamma:]).tolist()\n",
        "  while (X_predict[-1] >= stop_X) and (day_count <= stop_day):\n",
        "      if predict_beta[-1] > predict_gamma[-1]:\n",
        "          turning_point += 1\n",
        "\n",
        "      next_beta = clf_beta.predict(np.asarray([predict_beta[-orders_beta:]]))[0]\n",
        "      next_gamma = clf_gamma.predict(np.asarray([predict_gamma[-orders_gamma:]]))[0]\n",
        "\n",
        "      if next_beta < 0:\n",
        "          next_beta = 0\n",
        "      if next_gamma < 0:\n",
        "          next_gamma = 0\n",
        "\n",
        "      predict_beta.append(next_beta)\n",
        "      predict_gamma.append(next_gamma)\n",
        "\n",
        "      next_S = ((-predict_beta[-1] * S_predict[-1] *\n",
        "                X_predict[-1]) / n[-1]) + S_predict[-1]\n",
        "      next_X = ((predict_beta[-1] * S_predict[-1] * X_predict[-1]) /\n",
        "                n[-1]) - (predict_gamma[-1] * X_predict[-1]) + X_predict[-1]\n",
        "      next_R = (predict_gamma[-1] * X_predict[-1]) + R_predict[-1]\n",
        "\n",
        "      S_predict.append(next_S)\n",
        "      X_predict.append(next_X)\n",
        "      R_predict.append(next_R)\n",
        "\n",
        "      day_count += 1\n",
        "\n",
        "  #return the answer\n",
        "  return X_predict,R_predict\n",
        "\n",
        "#SIR(X_cml,death,recovered,0,0)"
      ],
      "execution_count": 13,
      "outputs": []
    },
    {
      "cell_type": "code",
      "source": [
        "# recall some important values\n",
        "X,R,n,S,X_diff,R_diff,gamma,beta,R0 = processing(X_cml,date,death,recovered)"
      ],
      "metadata": {
        "id": "1STH4Hj07Vp6"
      },
      "execution_count": 14,
      "outputs": []
    },
    {
      "cell_type": "markdown",
      "metadata": {
        "id": "aEDluTxBXqQ6"
      },
      "source": [
        "MSE"
      ]
    },
    {
      "cell_type": "code",
      "metadata": {
        "id": "NX7JVBzDg1zg"
      },
      "source": [
        "#import library\n",
        "from sklearn.metrics import *"
      ],
      "execution_count": 15,
      "outputs": []
    },
    {
      "cell_type": "code",
      "metadata": {
        "id": "7X8B1HrlXtmB",
        "colab": {
          "base_uri": "https://localhost:8080/",
          "height": 577
        },
        "outputId": "23aa8a6e-dd51-409f-f759-5eadaf950563"
      },
      "source": [
        "# establish an empty list for use\n",
        "X_predict = []\n",
        "death_predict = []\n",
        "R_predict = []\n",
        "x_cml_predict = []\n",
        "X_real = []\n",
        "R_real = []\n",
        "x_cml_real = []\n",
        "\n",
        "\n",
        "# test the MSE performance\n",
        "for i in index_list:\n",
        "  i=int(i)+1\n",
        "  X_cml_temp = X_cml[:i]\n",
        "  death_temp = death[:i]\n",
        "  recovered_temp = recovered[:i]\n",
        "  #print(i)\n",
        "  X_temp,R_temp = SIR(X_cml_temp,death_temp,recovered_temp,0,0)\n",
        "  X_predict.append(X_temp[-1])\n",
        "  R_predict.append(R_temp[-1])\n",
        "  #x_cml_predict.append(x_cml_temp[-1])\n",
        "  X_real.append(X[i-1])\n",
        "  R_real.append(R[i-1])\n",
        "  #x_cml_real.append(X_cml[i-1])\n",
        "\n",
        "#visualize and show the result\n",
        "plt.figure(1)\n",
        "plt.scatter(index_list,X_predict,c='r',marker='.')\n",
        "plt.scatter(index_list,X_real,c='b',marker='.')\n",
        "plt.xlabel('Time index')\n",
        "plt.ylabel('Comfirmed cases')\n",
        "plt.show()\n",
        "X_error = mean_absolute_percentage_error(X_real,X_predict)\n",
        "print('the mean absolute percentage error is '+str(X_error))\n",
        "\n",
        "plt.figure(2)\n",
        "plt.scatter(index_list,R_predict,c='r',marker='.')\n",
        "plt.scatter(index_list,R_real,c='b',marker='.')\n",
        "plt.xlabel('Time index')\n",
        "plt.ylabel('Recovered cases')\n",
        "plt.show()\n",
        "R_error = mean_absolute_percentage_error(R_real,R_predict)\n",
        "print('the mean absolute percentage error is '+str(R_error))"
      ],
      "execution_count": 16,
      "outputs": [
        {
          "output_type": "display_data",
          "data": {
            "image/png": "[encoded data removed]",
            "text/plain": [
              "<Figure size 432x288 with 1 Axes>"
            ]
          },
          "metadata": {
            "needs_background": "light"
          }
        },
        {
          "output_type": "stream",
          "name": "stdout",
          "text": [
            "the mean absolute percentage error is 0.01126210830555757\n"
          ]
        },
        {
          "output_type": "display_data",
          "data": {
            "image/png": "[encoded data removed]",
            "text/plain": [
              "<Figure size 432x288 with 1 Axes>"
            ]
          },
          "metadata": {
            "needs_background": "light"
          }
        },
        {
          "output_type": "stream",
          "name": "stdout",
          "text": [
            "the mean absolute percentage error is 0.00662945585704631\n"
          ]
        }
      ]
    },
    {
      "cell_type": "markdown",
      "metadata": {
        "id": "IKyNnBbyk3Aj"
      },
      "source": [
        "Sliding window"
      ]
    },
    {
      "cell_type": "code",
      "metadata": {
        "id": "6uRn9f4apahi"
      },
      "source": [
        "index_window = recover_data['index'][:315]-1"
      ],
      "execution_count": 17,
      "outputs": []
    },
    {
      "cell_type": "code",
      "metadata": {
        "colab": {
          "base_uri": "https://localhost:8080/",
          "height": 721
        },
        "id": "rto_2I90n1cd",
        "outputId": "7f587160-49ce-4234-ea80-cadf39befb09"
      },
      "source": [
        "# establish an empty list for use\n",
        "X_predict = []\n",
        "death_predict = []\n",
        "R_predict = []\n",
        "X_real = []\n",
        "R_real = []\n",
        "x_cml_predict = []\n",
        "x_cml_real = []\n",
        "\n",
        "#set the intial value of the Sliding window\n",
        "window_range = 60\n",
        "predict_range = 4\n",
        "index_list = []\n",
        "number = 0\n",
        "index_window\n",
        "\n",
        "#sliding window\n",
        "while number + window_range +predict_range + 1 < len(index_window):\n",
        "  number = number + predict_range\n",
        "  X_cml_temp = X_cml[number:number + window_range]\n",
        "  death_temp = death[number:number + window_range]\n",
        "  recovered_temp = recovered[number:number + window_range]\n",
        "  X_temp,R_temp = SIR(X_cml_temp,death_temp,recovered_temp,0,predict_range)\n",
        "  #print(len(X_temp))\n",
        "  for i in X_temp[1:-1]:\n",
        "    X_predict.append(i)\n",
        "\n",
        "  for i in R_temp[1:-1]:\n",
        "    R_predict.append(i)\n",
        "\n",
        "  #for i in x_cml_temp[1:-1]:\n",
        "    #x_cml_predict.append(i)\n",
        "\n",
        "  #X_real.append(X[number+window_range+predict_range-1])\n",
        "  #R_real.append(R[number+window_range+predict_range-1])\n",
        "  \n",
        "  for i in range(number+window_range,number+window_range+predict_range):\n",
        "    if i == 315:\n",
        "      X_real.append(X[-1])\n",
        "      R_real.append(R[-1])\n",
        "    else:\n",
        "      X_real.append(X[i])\n",
        "      R_real.append(R[i])\n",
        "    #x_cml_real.append(X[i]+R[i])\n",
        "\n",
        "  \n",
        "for i in range(len(X_predict)):\n",
        "  index_list.append(i)\n",
        "\n",
        "\n",
        "#visualize and show the result\n",
        "\n",
        "plt.figure(1)\n",
        "plt.scatter(index_list,X_predict,c='r',marker='.',linewidths=0.0001,label='predict value')\n",
        "plt.scatter(index_list,X_real,c='b',marker='.',linewidths=0.0001,label='real value')\n",
        "plt.xlabel('Time index')\n",
        "plt.ylabel('Confirmed cases')\n",
        "plt.legend()\n",
        "plt.show()\n",
        "X_error = mean_absolute_percentage_error(X_real,X_predict)\n",
        "X_R2 = r2_score(X_real,X_predict)\n",
        "X_mmse = mean_squared_error(X_real,X_predict)/np.average(X_real)\n",
        "X_mr = mean_squared_error(X_real,X_predict,squared=False)/np.average(X_real)\n",
        "X_mse = mean_squared_error(X_real,X_predict)\n",
        "\n",
        "print('the mean absolute percentage error of existing confirmed case is '+str(X_error))\n",
        "print('the R square score of existing confirmed case is '+str(X_R2))\n",
        "print('the normalized MSE of existing confirmed case is '+str(X_mmse))\n",
        "print('the normalized root MSE of existing confirmed case is '+str(X_mr))\n",
        "print('the MSE of existing confirmed case is '+str(X_mse))\n",
        "\n",
        "\n",
        "\n",
        "plt.figure(2)\n",
        "plt.scatter(index_list,R_predict,c='r',marker='.',linewidths=0.001,label='predict value')\n",
        "plt.scatter(index_list,R_real,c='b',marker='.',linewidths=0.001,label='real value')\n",
        "plt.xlabel('Time index')\n",
        "plt.ylabel('Recovered cases')\n",
        "plt.legend()\n",
        "plt.show()\n",
        "R_error = mean_absolute_percentage_error(R_real,R_predict)\n",
        "R_R2 = r2_score(R_real,R_predict)\n",
        "R_mmse = mean_squared_error(R_real,R_predict)/np.average(R_real)\n",
        "R_mr = mean_squared_error(R_real,R_predict,squared=False)/np.average(R_real)\n",
        "R_mse = mean_squared_error(R_real,R_predict)\n",
        "print('the mean absolute percentage error of recover case is '+str(R_error))\n",
        "print('the R square score of confirmed case is '+str(R_R2))\n",
        "print('the normalized MSE of confirmed case is '+str(R_mmse))\n",
        "print('the normalized root MSE of confirmed case is '+str(R_mr))\n",
        "print('the MSE of confirmed case is '+str(R_mse))\n",
        "\n",
        "x_cml_real = sum(X_real,R_real).tolist()\n",
        "x_cml_predict = sum(X_predict,R_predict).tolist()\n",
        "\n"
      ],
      "execution_count": 18,
      "outputs": [
        {
          "output_type": "display_data",
          "data": {
            "image/png": "[encoded data removed]",
            "text/plain": [
              "<Figure size 432x288 with 1 Axes>"
            ]
          },
          "metadata": {
            "needs_background": "light"
          }
        },
        {
          "output_type": "stream",
          "name": "stdout",
          "text": [
            "the mean absolute percentage error of existing confirmed case is 0.005656338434902154\n",
            "the R square score of existing confirmed case is 0.9997484932609789\n",
            "the normalized MSE of existing confirmed case is 24.485011824663026\n",
            "the normalized root MSE of existing confirmed case is 0.011084101772345801\n",
            "the MSE of existing confirmed case is 4879773.0782786505\n"
          ]
        },
        {
          "output_type": "display_data",
          "data": {
            "image/png": "[encoded data removed]",
            "text/plain": [
              "<Figure size 432x288 with 1 Axes>"
            ]
          },
          "metadata": {
            "needs_background": "light"
          }
        },
        {
          "output_type": "stream",
          "name": "stdout",
          "text": [
            "the mean absolute percentage error of recover case is 0.01517254484802269\n",
            "the R square score of confirmed case is 0.9978106791586955\n",
            "the normalized MSE of confirmed case is 12.362926551984101\n",
            "the normalized root MSE of confirmed case is 0.021984514338825954\n",
            "the MSE of confirmed case is 316234.1927679099\n"
          ]
        }
      ]
    },
    {
      "cell_type": "code",
      "source": [
        "# output the number\n",
        "# if don't use the google colab, please ignore this step\n",
        "X_predict_pd = pd.DataFrame(X_predict,columns=['existing case (predicted)'])\n",
        "R_predict_pd = pd.DataFrame(R_predict,columns=['reduced case (predicted)'])\n",
        "X_real_pd = pd.DataFrame(X_real,columns=['existing case (real)'])\n",
        "R_real_pd = pd.DataFrame(R_real,columns=['reduced case (real)'])\n",
        "result=pd.concat([X_predict_pd,R_predict_pd,X_real_pd,R_real_pd], axis=1)\n",
        "result.to_csv('SIR_result.csv',index=False)\n",
        "from google.colab import files\n",
        "from google.colab import drive\n",
        "drive.mount('/content/drive')"
      ],
      "metadata": {
        "colab": {
          "base_uri": "https://localhost:8080/",
          "height": 359
        },
        "id": "3TtR_RUcIIRF",
        "outputId": "d143fb6b-4773-4f17-a75e-2ddbf934bbe1"
      },
      "execution_count": 19,
      "outputs": [
        {
          "output_type": "error",
          "ename": "MessageError",
          "evalue": "ignored",
          "traceback": [
            "\u001b[0;31m---------------------------------------------------------------------------\u001b[0m",
            "\u001b[0;31mMessageError\u001b[0m                              Traceback (most recent call last)",
            "\u001b[0;32m<ipython-input-19-31523ea0579c>\u001b[0m in \u001b[0;36m<module>\u001b[0;34m()\u001b[0m\n\u001b[1;32m      8\u001b[0m \u001b[0;32mfrom\u001b[0m \u001b[0mgoogle\u001b[0m\u001b[0;34m.\u001b[0m\u001b[0mcolab\u001b[0m \u001b[0;32mimport\u001b[0m \u001b[0mfiles\u001b[0m\u001b[0;34m\u001b[0m\u001b[0;34m\u001b[0m\u001b[0m\n\u001b[1;32m      9\u001b[0m \u001b[0;32mfrom\u001b[0m \u001b[0mgoogle\u001b[0m\u001b[0;34m.\u001b[0m\u001b[0mcolab\u001b[0m \u001b[0;32mimport\u001b[0m \u001b[0mdrive\u001b[0m\u001b[0;34m\u001b[0m\u001b[0;34m\u001b[0m\u001b[0m\n\u001b[0;32m---> 10\u001b[0;31m \u001b[0mdrive\u001b[0m\u001b[0;34m.\u001b[0m\u001b[0mmount\u001b[0m\u001b[0;34m(\u001b[0m\u001b[0;34m'/content/drive'\u001b[0m\u001b[0;34m)\u001b[0m\u001b[0;34m\u001b[0m\u001b[0;34m\u001b[0m\u001b[0m\n\u001b[0m",
            "\u001b[0;32m/usr/local/lib/python3.7/dist-packages/google/colab/drive.py\u001b[0m in \u001b[0;36mmount\u001b[0;34m(mountpoint, force_remount, timeout_ms, use_metadata_server)\u001b[0m\n\u001b[1;32m    111\u001b[0m       \u001b[0mtimeout_ms\u001b[0m\u001b[0;34m=\u001b[0m\u001b[0mtimeout_ms\u001b[0m\u001b[0;34m,\u001b[0m\u001b[0;34m\u001b[0m\u001b[0;34m\u001b[0m\u001b[0m\n\u001b[1;32m    112\u001b[0m       \u001b[0muse_metadata_server\u001b[0m\u001b[0;34m=\u001b[0m\u001b[0muse_metadata_server\u001b[0m\u001b[0;34m,\u001b[0m\u001b[0;34m\u001b[0m\u001b[0;34m\u001b[0m\u001b[0m\n\u001b[0;32m--> 113\u001b[0;31m       ephemeral=ephemeral)\n\u001b[0m\u001b[1;32m    114\u001b[0m \u001b[0;34m\u001b[0m\u001b[0m\n\u001b[1;32m    115\u001b[0m \u001b[0;34m\u001b[0m\u001b[0m\n",
            "\u001b[0;32m/usr/local/lib/python3.7/dist-packages/google/colab/drive.py\u001b[0m in \u001b[0;36m_mount\u001b[0;34m(mountpoint, force_remount, timeout_ms, use_metadata_server, ephemeral)\u001b[0m\n\u001b[1;32m    134\u001b[0m   \u001b[0;32mif\u001b[0m \u001b[0mephemeral\u001b[0m\u001b[0;34m:\u001b[0m\u001b[0;34m\u001b[0m\u001b[0;34m\u001b[0m\u001b[0m\n\u001b[1;32m    135\u001b[0m     _message.blocking_request(\n\u001b[0;32m--> 136\u001b[0;31m         'request_auth', request={'authType': 'dfs_ephemeral'}, timeout_sec=None)\n\u001b[0m\u001b[1;32m    137\u001b[0m \u001b[0;34m\u001b[0m\u001b[0m\n\u001b[1;32m    138\u001b[0m   \u001b[0mmountpoint\u001b[0m \u001b[0;34m=\u001b[0m \u001b[0m_os\u001b[0m\u001b[0;34m.\u001b[0m\u001b[0mpath\u001b[0m\u001b[0;34m.\u001b[0m\u001b[0mexpanduser\u001b[0m\u001b[0;34m(\u001b[0m\u001b[0mmountpoint\u001b[0m\u001b[0;34m)\u001b[0m\u001b[0;34m\u001b[0m\u001b[0;34m\u001b[0m\u001b[0m\n",
            "\u001b[0;32m/usr/local/lib/python3.7/dist-packages/google/colab/_message.py\u001b[0m in \u001b[0;36mblocking_request\u001b[0;34m(request_type, request, timeout_sec, parent)\u001b[0m\n\u001b[1;32m    173\u001b[0m   request_id = send_request(\n\u001b[1;32m    174\u001b[0m       request_type, request, parent=parent, expect_reply=True)\n\u001b[0;32m--> 175\u001b[0;31m   \u001b[0;32mreturn\u001b[0m \u001b[0mread_reply_from_input\u001b[0m\u001b[0;34m(\u001b[0m\u001b[0mrequest_id\u001b[0m\u001b[0;34m,\u001b[0m \u001b[0mtimeout_sec\u001b[0m\u001b[0;34m)\u001b[0m\u001b[0;34m\u001b[0m\u001b[0;34m\u001b[0m\u001b[0m\n\u001b[0m",
            "\u001b[0;32m/usr/local/lib/python3.7/dist-packages/google/colab/_message.py\u001b[0m in \u001b[0;36mread_reply_from_input\u001b[0;34m(message_id, timeout_sec)\u001b[0m\n\u001b[1;32m    104\u001b[0m         reply.get('colab_msg_id') == message_id):\n\u001b[1;32m    105\u001b[0m       \u001b[0;32mif\u001b[0m \u001b[0;34m'error'\u001b[0m \u001b[0;32min\u001b[0m \u001b[0mreply\u001b[0m\u001b[0;34m:\u001b[0m\u001b[0;34m\u001b[0m\u001b[0;34m\u001b[0m\u001b[0m\n\u001b[0;32m--> 106\u001b[0;31m         \u001b[0;32mraise\u001b[0m \u001b[0mMessageError\u001b[0m\u001b[0;34m(\u001b[0m\u001b[0mreply\u001b[0m\u001b[0;34m[\u001b[0m\u001b[0;34m'error'\u001b[0m\u001b[0;34m]\u001b[0m\u001b[0;34m)\u001b[0m\u001b[0;34m\u001b[0m\u001b[0;34m\u001b[0m\u001b[0m\n\u001b[0m\u001b[1;32m    107\u001b[0m       \u001b[0;32mreturn\u001b[0m \u001b[0mreply\u001b[0m\u001b[0;34m.\u001b[0m\u001b[0mget\u001b[0m\u001b[0;34m(\u001b[0m\u001b[0;34m'data'\u001b[0m\u001b[0;34m,\u001b[0m \u001b[0;32mNone\u001b[0m\u001b[0;34m)\u001b[0m\u001b[0;34m\u001b[0m\u001b[0;34m\u001b[0m\u001b[0m\n\u001b[1;32m    108\u001b[0m \u001b[0;34m\u001b[0m\u001b[0m\n",
            "\u001b[0;31mMessageError\u001b[0m: Error: credential propagation was unsuccessful"
          ]
        }
      ]
    }
  ]
}